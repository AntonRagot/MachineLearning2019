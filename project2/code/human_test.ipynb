{
 "cells": [
  {
   "cell_type": "code",
   "execution_count": 1,
   "metadata": {},
   "outputs": [],
   "source": [
    "from utils import *"
   ]
  },
  {
   "cell_type": "code",
   "execution_count": 10,
   "metadata": {},
   "outputs": [
    {
     "data": {
      "text/plain": [
       "'1 <user> yup <exclamation> nah half owl neer take all essay base subject oh delightful essay both <number> page long front and back woohoo'"
      ]
     },
     "execution_count": 10,
     "metadata": {},
     "output_type": "execute_result"
    }
   ],
   "source": [
    "tweets = load_tweets('../data/ft_val.txt')"
   ]
  },
  {
   "cell_type": "code",
   "execution_count": 55,
   "metadata": {},
   "outputs": [
    {
     "data": {
      "text/plain": [
       "[[1,\n",
       "  '<user> yup <exclamation> nah half owl neer take all essay base subject oh delightful essay both <number> page long front and back woohoo'],\n",
       " [0, '<user> aww man ha but i be kid'],\n",
       " [0,\n",
       "  'chicago carissima of italy <number> for brazilian wax <number> value <number> for facial or microdermabrasion <user> <url>'],\n",
       " [0,\n",
       "  'asin samehere oo <exclamation> rt <user> chill <user> everybody have do baiday apart from me when will june reach na'],\n",
       " [0, '<user> he wont now if they do man utd go wrong somewhere and hmm yeah'],\n",
       " [1,\n",
       "  '<user> oh <elong> let tweet i be basically inside the line cry a river and you learn how to park to'],\n",
       " [1,\n",
       "  'oomf be my baby my headache my love my smile my frown my wrong my right my sweetheart my pain my happiness my boo'],\n",
       " [1,\n",
       "  'a much a i like payphone i still like the old maroon <number> music more a in the song about jane album oh well haha just my opinion'],\n",
       " [0,\n",
       "  'so tire and so sick <exclamation> <hashtag> why ami still up <question> <rep> <exclamation> <rep> <hashtag> oh yeah chem <hashtag> someone pw ease take care of me'],\n",
       " [0,\n",
       "  'royal blood chronicle of endymion kindle edition once upon a time two young prince name will and harry w <url>']]"
      ]
     },
     "execution_count": 55,
     "metadata": {},
     "output_type": "execute_result"
    }
   ],
   "source": [
    "label_tweet = []\n",
    "for t in tweets:\n",
    "    if '__label__1' in t:\n",
    "        label_tweet.append([1,t[11:]])\n",
    "    else:\n",
    "        label_tweet.append([0,t[12:]])"
   ]
  },
  {
   "cell_type": "code",
   "execution_count": 62,
   "metadata": {},
   "outputs": [
    {
     "data": {
      "text/plain": [
       "'<user> yup <exclamation> nah half owl neer take all essay base subject oh delightful essay both <number> page long front and back woohoo'"
      ]
     },
     "execution_count": 62,
     "metadata": {},
     "output_type": "execute_result"
    }
   ],
   "source": [
    "starting_index = {1:0, 2:len(label_tweet)//3, 3:(len(label_tweet)*2)//3}\n",
    "label_tweet[0][1]"
   ]
  }
 ],
 "metadata": {
  "kernelspec": {
   "display_name": "Python 3",
   "language": "python",
   "name": "python3"
  },
  "language_info": {
   "codemirror_mode": {
    "name": "ipython",
    "version": 3
   },
   "file_extension": ".py",
   "mimetype": "text/x-python",
   "name": "python",
   "nbconvert_exporter": "python",
   "pygments_lexer": "ipython3",
   "version": "3.7.3"
  }
 },
 "nbformat": 4,
 "nbformat_minor": 2
}

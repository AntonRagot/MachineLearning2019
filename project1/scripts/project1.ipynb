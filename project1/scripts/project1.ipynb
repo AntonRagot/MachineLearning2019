{
 "cells": [
  {
   "cell_type": "code",
   "execution_count": 1,
   "metadata": {},
   "outputs": [],
   "source": [
    "# Useful starting lines\n",
    "%matplotlib inline\n",
    "import numpy as np\n",
    "import matplotlib.pyplot as plt\n",
    "%load_ext autoreload\n",
    "%autoreload 2"
   ]
  },
  {
   "cell_type": "markdown",
   "metadata": {},
   "source": [
    "## Load the training data into feature matrix, class labels, and event ids:"
   ]
  },
  {
   "cell_type": "code",
   "execution_count": 2,
   "metadata": {},
   "outputs": [],
   "source": [
    "from proj1_helpers import *\n",
    "from implementations import *"
   ]
  },
  {
   "cell_type": "code",
   "execution_count": 3,
   "metadata": {},
   "outputs": [],
   "source": [
    "DATA_TRAIN_PATH = '../data/train.csv'\n",
    "y, tX, ids = load_csv_data(DATA_TRAIN_PATH)"
   ]
  },
  {
   "cell_type": "code",
   "execution_count": 4,
   "metadata": {},
   "outputs": [],
   "source": [
    "X = tX.copy()"
   ]
  },
  {
   "cell_type": "code",
   "execution_count": 5,
   "metadata": {},
   "outputs": [],
   "source": [
    "# Define some constants\n",
    "\n",
    "M = X.shape[1] # number of features\n",
    "UNDEF = -999.\n",
    "JET_NUM_INDEX = 22 # the index of the PRI_jet_num feature"
   ]
  },
  {
   "cell_type": "markdown",
   "metadata": {},
   "source": [
    "### Method definitions (move to another file eventually)"
   ]
  },
  {
   "cell_type": "code",
   "execution_count": 6,
   "metadata": {},
   "outputs": [],
   "source": [
    "# group data by PRI_jet_num\n",
    "def data_of_jet_num(X, y, jet_num):\n",
    "    mask = X[:, JET_NUM_INDEX] == jet_num\n",
    "    if y is None:\n",
    "        return X[mask], mask\n",
    "    return X[mask], y[mask], mask"
   ]
  },
  {
   "cell_type": "code",
   "execution_count": 7,
   "metadata": {},
   "outputs": [],
   "source": [
    "def replace_undef_by_median(X,median):\n",
    "    X_ = X.copy()\n",
    "    X_[X[:,0] == UNDEF, 0] = median\n",
    "    return X_"
   ]
  },
  {
   "cell_type": "code",
   "execution_count": 8,
   "metadata": {},
   "outputs": [],
   "source": [
    "def remove_unwanted_cols(X,unwanted_cols):\n",
    "    x_clean = np.delete(X, unwanted_cols, axis=1)\n",
    "    return x_clean"
   ]
  },
  {
   "cell_type": "code",
   "execution_count": 9,
   "metadata": {},
   "outputs": [
    {
     "data": {
      "text/plain": [
       "'\\ndef remove_outliers(X,y):\\n    center = np.mean(X, axis=0)\\n    dists = np.linalg.norm(X-center, axis=1)\\n    hi = np.percentile(dists, 95)\\n    lo = np.percentile(dists, 5)\\n    mask = np.logical_and(dists > lo, dists < hi)\\n    return X[mask], y[mask]\\n'"
      ]
     },
     "execution_count": 9,
     "metadata": {},
     "output_type": "execute_result"
    }
   ],
   "source": [
    "\"\"\"\n",
    "def remove_outliers(X,y):\n",
    "    center = np.mean(X, axis=0)\n",
    "    dists = np.linalg.norm(X-center, axis=1)\n",
    "    hi = np.percentile(dists, 95)\n",
    "    lo = np.percentile(dists, 5)\n",
    "    mask = np.logical_and(dists > lo, dists < hi)\n",
    "    return X[mask], y[mask]\n",
    "\"\"\""
   ]
  },
  {
   "cell_type": "code",
   "execution_count": 10,
   "metadata": {},
   "outputs": [],
   "source": [
    "def clean_data(X,median,unwanted_cols):\n",
    "    X_ = remove_unwanted_cols(X,unwanted_cols)\n",
    "    X_ = replace_undef_by_median(X_, median)\n",
    "    return X_"
   ]
  },
  {
   "cell_type": "code",
   "execution_count": 11,
   "metadata": {},
   "outputs": [],
   "source": [
    "def accuracy(predictions, actual):\n",
    "    return np.sum(predictions==actual)/len(actual)"
   ]
  },
  {
   "cell_type": "code",
   "execution_count": 12,
   "metadata": {},
   "outputs": [],
   "source": [
    "def get_medians(X):\n",
    "    medians = []\n",
    "    for i in range(4):\n",
    "        x, _ = data_of_jet_num(X, None, i)\n",
    "        medians.append(np.median(x[:,0]))\n",
    "    return medians"
   ]
  },
  {
   "cell_type": "markdown",
   "metadata": {},
   "source": [
    "### Implementation"
   ]
  },
  {
   "cell_type": "markdown",
   "metadata": {},
   "source": [
    "1. separate into train and test\n",
    "2. separate train and test by jet num\n",
    "3. prepare data separately\n",
    "    1. remove cols with **unwanted**\n",
    "    2. replace undefs by **median**\n",
    "    3. expand poly by **deg**\n",
    "4. train data\n",
    "5. get best lambda and deg with k-fold"
   ]
  },
  {
   "cell_type": "code",
   "execution_count": 13,
   "metadata": {},
   "outputs": [],
   "source": [
    "# undefined columns for each group\n",
    "unwanted0 = [4,5,6,12,22,23,24,25,26,27,28,29]\n",
    "unwanted1 = [4,5,6,12,22,26,27,28,29]\n",
    "unwanted2 = [22]\n",
    "unwanted3 = [22]\n",
    "\n",
    "UNWANTED = [unwanted0, unwanted1, unwanted2, unwanted3]"
   ]
  },
  {
   "cell_type": "code",
   "execution_count": 14,
   "metadata": {},
   "outputs": [],
   "source": [
    "TRAIN_X, TRAIN_Y, _, _, TEST_X, TEST_Y = split_data(X,y,train_ratio=0.8,validation_ratio=0.0) # group train and validation in one"
   ]
  },
  {
   "cell_type": "code",
   "execution_count": 15,
   "metadata": {},
   "outputs": [],
   "source": [
    "MEDIANS = get_medians(TRAIN_X)"
   ]
  },
  {
   "cell_type": "code",
   "execution_count": 16,
   "metadata": {},
   "outputs": [],
   "source": [
    "def clean_data_for_jet_num(x,y,jet_num):\n",
    "    \n",
    "    x, y, _ = data_of_jet_num(x, y, jet_num)\n",
    "\n",
    "    x = clean_data(x, MEDIANS[jet_num], UNWANTED[jet_num])\n",
    "\n",
    "    return x, y"
   ]
  },
  {
   "cell_type": "code",
   "execution_count": 17,
   "metadata": {},
   "outputs": [],
   "source": [
    "def expand_poly(X, degree):\n",
    "    expanded_x = X.copy()\n",
    "    for d in range(2,degree + 1):\n",
    "            expanded_x = np.c_[expanded_x, np.power(X, d)]\n",
    "    return expanded_x"
   ]
  },
  {
   "cell_type": "code",
   "execution_count": 18,
   "metadata": {},
   "outputs": [],
   "source": [
    "def regress(x, y, lamb=0):\n",
    "    w,_ = ridge_regression(y, x, lamb)\n",
    "    return w"
   ]
  },
  {
   "cell_type": "code",
   "execution_count": 19,
   "metadata": {},
   "outputs": [],
   "source": [
    "K = 10\n",
    "def build_k_indices(y, K=K, seed=0):\n",
    "    np.random.seed(seed)\n",
    "    indices = np.random.permutation(len(y))\n",
    "    k_indices = np.array_split(indices, K)\n",
    "    out = []\n",
    "    for k in range(K):\n",
    "        te = k_indices[k]\n",
    "        tr = np.concatenate(np.delete(k_indices, k))\n",
    "        out.append((tr,te))\n",
    "    return out"
   ]
  },
  {
   "cell_type": "code",
   "execution_count": 20,
   "metadata": {},
   "outputs": [],
   "source": [
    "def predict(w, test_x):\n",
    "    labels = np.dot(test_x, w)\n",
    "    labels = np.sign(labels)*1.0\n",
    "    return labels"
   ]
  },
  {
   "cell_type": "code",
   "execution_count": 48,
   "metadata": {},
   "outputs": [],
   "source": [
    "LAMBDAS = np.logspace(-8, 0, 10)\n",
    "LAMBDAS = np.insert(LAMBDAS, 0, 0)\n",
    "\n",
    "DEGREES = np.arange(5, 11)\n",
    "\n",
    "def k_fold_cross_validation(x,y):\n",
    "    \n",
    "    accuracies = np.zeros((len(DEGREES), len(LAMBDAS)))\n",
    "    \n",
    "    k_indices = build_k_indices(y)\n",
    "\n",
    "    c = 1\n",
    "\n",
    "    for d, degree in enumerate(DEGREES):\n",
    "        \n",
    "        x_ = expand_poly(x, degree)\n",
    "        \n",
    "        for l, lamb in enumerate(LAMBDAS):\n",
    "            \n",
    "            temp_acc = []\n",
    "            \n",
    "            for indices in k_indices:\n",
    "                tr_ind, te_ind = indices\n",
    "                tr_x, tr_y = x_[tr_ind], y[tr_ind]\n",
    "                te_x, te_y = x_[te_ind], y[te_ind]\n",
    "                w = regress(tr_x, tr_y, lamb)\n",
    "                preds = predict(w, te_x)\n",
    "                temp_acc.append(accuracy(preds, te_y))\n",
    "                \n",
    "            accuracies[d][l] = np.mean(temp_acc)\n",
    "            \n",
    "            print('\\r%d / %d' % (c, len(LAMBDAS)*len(DEGREES)), end='')\n",
    "            c += 1\n",
    "    best_d, best_l = np.unravel_index(np.argmax(accuracies), accuracies.shape)\n",
    "    best_d = DEGREES[best_d]\n",
    "    best_l = LAMBDAS[best_l]\n",
    "    return accuracies, best_d, best_l"
   ]
  },
  {
   "cell_type": "code",
   "execution_count": 49,
   "metadata": {
    "scrolled": true
   },
   "outputs": [
    {
     "name": "stdout",
     "output_type": "stream",
     "text": [
      "66 / 66"
     ]
    }
   ],
   "source": [
    "accs = []\n",
    "best_degs = []\n",
    "best_lambs = []\n",
    "weights = []\n",
    "test_accs = []\n",
    "for i in range(4):\n",
    "    x, y = clean_data_for_jet_num(TRAIN_X, TRAIN_Y, i)\n",
    "    acc, deg, lam = k_fold_cross_validation(x, y)\n",
    "    accs.append(acc)\n",
    "    best_degs.append(deg)\n",
    "    best_lambs.append(lam)\n",
    "    w = regress(expand_poly(x,deg), y, lam)\n",
    "    weights.append(w)\n",
    "    x, y = clean_data_for_jet_num(TEST_X, TEST_Y, i)\n",
    "    acc = accuracy(predict(w, expand_poly(x,deg)), y)\n",
    "    test_accs.append(acc)"
   ]
  },
  {
   "cell_type": "code",
   "execution_count": 67,
   "metadata": {},
   "outputs": [
    {
     "data": {
      "text/plain": [
       "[1e-08, 4.641588833612773e-06, 0.0, 5.994842503189409e-07]"
      ]
     },
     "execution_count": 67,
     "metadata": {},
     "output_type": "execute_result"
    }
   ],
   "source": [
    "best_lambs"
   ]
  },
  {
   "cell_type": "code",
   "execution_count": 66,
   "metadata": {
    "scrolled": true
   },
   "outputs": [
    {
     "data": {
      "image/png": "[encoded data removed]",
      "text/plain": [
       "<Figure size 432x288 with 4 Axes>"
      ]
     },
     "metadata": {},
     "output_type": "display_data"
    }
   ],
   "source": [
    "ax1 = plt.subplot(1,4,1)\n",
    "plt.yticks(np.arange(len(LAMBDAS)), LAMBDAS)\n",
    "plt.xticks(np.arange(len(DEGREES)), DEGREES)\n",
    "plt.imshow(accs[0].T)\n",
    "ax2 = plt.subplot(1,4,2, sharey=ax1, sharex=ax1)\n",
    "plt.setp(ax2.get_yticklabels(), visible=False)\n",
    "plt.imshow(accs[1].T)\n",
    "ax3 = plt.subplot(1,4,3, sharey=ax1, sharex=ax1)\n",
    "plt.setp(ax3.get_yticklabels(), visible=False)\n",
    "plt.imshow(accs[2].T)\n",
    "ax4 = plt.subplot(1,4,4, sharey=ax1, sharex=ax1)\n",
    "plt.imshow(accs[3].T)\n",
    "plt.setp(ax4.get_yticklabels(), visible=False)\n",
    "plt.show()"
   ]
  },
  {
   "cell_type": "code",
   "execution_count": 53,
   "metadata": {
    "scrolled": true
   },
   "outputs": [
    {
     "data": {
      "text/plain": [
       "[0.8443527540266454, 0.8039403825241477, 0.830749093838099, 0.8319055336883537]"
      ]
     },
     "execution_count": 53,
     "metadata": {},
     "output_type": "execute_result"
    }
   ],
   "source": [
    "test_accs"
   ]
  },
  {
   "cell_type": "markdown",
   "metadata": {},
   "source": [
    "### Now check score on test set"
   ]
  },
  {
   "cell_type": "code",
   "execution_count": 37,
   "metadata": {},
   "outputs": [],
   "source": [
    "# return predictions\n",
    "def predict_all(test_x, weights, degs):\n",
    "    \n",
    "    predictions = np.ones((test_x.shape[0],))\n",
    "    \n",
    "    # for every jet number\n",
    "    for i in range(4):\n",
    "\n",
    "        # get test data\n",
    "        x, ids = data_of_jet_num(test_x, None, i)\n",
    "        \n",
    "        # clean test data (only remove undefined columns)\n",
    "        clean_x = clean_data(x, MEDIANS[i], UNWANTED[i])\n",
    "\n",
    "        expanded_x = expand_poly(clean_x, degs[i])\n",
    "\n",
    "        # predict the labels\n",
    "        p = predict(weights[i], expanded_x)\n",
    "        \n",
    "        predictions[ids] = p\n",
    "        \n",
    "    return predictions"
   ]
  },
  {
   "cell_type": "code",
   "execution_count": 38,
   "metadata": {},
   "outputs": [],
   "source": [
    "# method that predicts and returns the accuracy\n",
    "def check(test_x, test_y, weights, degs):\n",
    "    predictions = predict_all(test_x, weights, degs)\n",
    "    return accuracy(predictions, test_y)"
   ]
  },
  {
   "cell_type": "code",
   "execution_count": 39,
   "metadata": {},
   "outputs": [
    {
     "data": {
      "text/plain": [
       "0.82806"
      ]
     },
     "execution_count": 39,
     "metadata": {},
     "output_type": "execute_result"
    }
   ],
   "source": [
    "check(TEST_X, TEST_Y, weights, best_degs)"
   ]
  },
  {
   "cell_type": "markdown",
   "metadata": {},
   "source": [
    "# Generate predictions and save ouput in csv format for submission:"
   ]
  },
  {
   "cell_type": "code",
   "execution_count": 40,
   "metadata": {},
   "outputs": [],
   "source": [
    "DATA_TEST_PATH = '../data/test.csv'\n",
    "_, tX_test, ids_test = load_csv_data(DATA_TEST_PATH)"
   ]
  },
  {
   "cell_type": "code",
   "execution_count": 46,
   "metadata": {
    "scrolled": false
   },
   "outputs": [],
   "source": [
    "y_pred = predict_all(tX_test, weights, best_degs)"
   ]
  },
  {
   "cell_type": "code",
   "execution_count": 47,
   "metadata": {},
   "outputs": [],
   "source": [
    "OUTPUT_PATH = '../output/predictions_11.csv'\n",
    "create_csv_submission(ids_test, y_pred, OUTPUT_PATH)"
   ]
  },
  {
   "cell_type": "code",
   "execution_count": null,
   "metadata": {},
   "outputs": [],
   "source": []
  }
 ],
 "metadata": {
  "anaconda-cloud": {},
  "kernelspec": {
   "display_name": "Python 3",
   "language": "python",
   "name": "python3"
  },
  "language_info": {
   "codemirror_mode": {
    "name": "ipython",
    "version": 3
   },
   "file_extension": ".py",
   "mimetype": "text/x-python",
   "name": "python",
   "nbconvert_exporter": "python",
   "pygments_lexer": "ipython3",
   "version": "3.6.5"
  }
 },
 "nbformat": 4,
 "nbformat_minor": 1
}

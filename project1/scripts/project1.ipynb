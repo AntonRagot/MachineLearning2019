{
 "cells": [
  {
   "cell_type": "code",
   "execution_count": 73,
   "metadata": {},
   "outputs": [
    {
     "name": "stdout",
     "output_type": "stream",
     "text": [
      "The autoreload extension is already loaded. To reload it, use:\n",
      "  %reload_ext autoreload\n"
     ]
    }
   ],
   "source": [
    "# Useful starting lines\n",
    "%matplotlib inline\n",
    "import numpy as np\n",
    "import matplotlib.pyplot as plt\n",
    "%load_ext autoreload\n",
    "%autoreload 2"
   ]
  },
  {
   "cell_type": "markdown",
   "metadata": {},
   "source": [
    "## Load the training data into feature matrix, class labels, and event ids:"
   ]
  },
  {
   "cell_type": "code",
   "execution_count": 74,
   "metadata": {},
   "outputs": [],
   "source": [
    "from proj1_helpers import *\n",
    "from implementations import *"
   ]
  },
  {
   "cell_type": "code",
   "execution_count": 75,
   "metadata": {},
   "outputs": [],
   "source": [
    "DATA_TRAIN_PATH = '../data/train.csv'\n",
    "y, tX, ids = load_csv_data(DATA_TRAIN_PATH)"
   ]
  },
  {
   "cell_type": "code",
   "execution_count": 76,
   "metadata": {},
   "outputs": [],
   "source": [
    "X = tX.copy()"
   ]
  },
  {
   "cell_type": "code",
   "execution_count": 77,
   "metadata": {},
   "outputs": [],
   "source": [
    "# Define some constants\n",
    "\n",
    "M = X.shape[1] # number of features\n",
    "UNDEF = -999.\n",
    "JET_NUM_INDEX = 22 # the index of the PRI_jet_num feature"
   ]
  },
  {
   "cell_type": "markdown",
   "metadata": {},
   "source": [
    "### Method definitions (move to another file eventually)"
   ]
  },
  {
   "cell_type": "code",
   "execution_count": 78,
   "metadata": {},
   "outputs": [],
   "source": [
    "# group data by PRI_jet_num\n",
    "def data_of_jet_num(X, y, jet_num):\n",
    "    mask = X[:, JET_NUM_INDEX] == jet_num\n",
    "    return X[mask], y[mask], mask"
   ]
  },
  {
   "cell_type": "code",
   "execution_count": 119,
   "metadata": {},
   "outputs": [],
   "source": [
    "# remove rows that still have undefined values\n",
    "def remove_undef_rows(X,y,info=False):\n",
    "    to_remove = []\n",
    "    for i,row in enumerate(X):\n",
    "        if UNDEF in row:\n",
    "            to_remove.append(i)\n",
    "    x_clean = np.delete(X, to_remove, axis=0)\n",
    "    y_clean = np.delete(y, to_remove)\n",
    "    if info:\n",
    "        print('Removed',len(to_remove),'samples containing',UNDEF)\n",
    "    return x_clean, y_clean"
   ]
  },
  {
   "cell_type": "code",
   "execution_count": 120,
   "metadata": {},
   "outputs": [],
   "source": [
    "def remove_unwanted_cols(X,unwanted_cols):\n",
    "    x_clean = np.delete(X, unwanted_cols, axis=1)\n",
    "    return x_clean"
   ]
  },
  {
   "cell_type": "code",
   "execution_count": 130,
   "metadata": {},
   "outputs": [],
   "source": [
    "def clean_data(X,y,unwanted_cols):\n",
    "    X_ = remove_unwanted_cols(X,unwanted_cols)\n",
    "    return remove_undef_rows(X_,y)"
   ]
  },
  {
   "cell_type": "code",
   "execution_count": 82,
   "metadata": {},
   "outputs": [],
   "source": [
    "# compute weights for columns we selected\n",
    "def regress(X, y, lamb=0):\n",
    "    w,_ = ridge_regression(y, X, lamb)\n",
    "    return w"
   ]
  },
  {
   "cell_type": "code",
   "execution_count": 96,
   "metadata": {},
   "outputs": [],
   "source": [
    "def predict(w, test_x):\n",
    "    labels = test_x @ w\n",
    "    labels = np.sign(labels)*1.0\n",
    "    return labels"
   ]
  },
  {
   "cell_type": "code",
   "execution_count": 84,
   "metadata": {},
   "outputs": [],
   "source": [
    "def accuracy(predictions, actual):\n",
    "    return np.sum(predictions==actual)/len(actual)"
   ]
  },
  {
   "cell_type": "markdown",
   "metadata": {},
   "source": [
    "### Implementation"
   ]
  },
  {
   "cell_type": "code",
   "execution_count": 85,
   "metadata": {},
   "outputs": [],
   "source": [
    "# undefined columns for each group\n",
    "unwanted0 = [4,5,6,8,9,12,22,23,24,25,26,27,28,29]\n",
    "unwanted1 = [4,5,6,12,22,26,27,28]\n",
    "unwanted2 = [22]\n",
    "unwanted3 = [22]\n",
    "\n",
    "unwanted_cols = [unwanted0, unwanted1, unwanted2, unwanted3]"
   ]
  },
  {
   "cell_type": "code",
   "execution_count": 86,
   "metadata": {},
   "outputs": [],
   "source": [
    "TRAIN_X, TRAIN_Y, VAL_X, VAL_Y, TEST_X, TEST_Y = split_data(X,y,0.4,0.2)"
   ]
  },
  {
   "cell_type": "markdown",
   "metadata": {},
   "source": [
    "### Train on our train set: 1 classifier per JET_NUM"
   ]
  },
  {
   "cell_type": "code",
   "execution_count": 131,
   "metadata": {},
   "outputs": [],
   "source": [
    "# main training method, returns a list of 4 sets of weights, one for each classifier\n",
    "def train(train_x, train_y, lamb=0):\n",
    "    \n",
    "    # each model has it's own weights, store them in a list\n",
    "    weights = []\n",
    "\n",
    "    # for every jet number\n",
    "    for i in range(4):\n",
    "\n",
    "        # get train data\n",
    "        x, y, _ = data_of_jet_num(train_x, train_y, i)\n",
    "\n",
    "        # clean training data\n",
    "        clean_x, clean_y = clean_data(x, y, unwanted_cols[i])\n",
    "\n",
    "        # build polynomial expansion\n",
    "        ### TODO\n",
    "        expanded_x = clean_x\n",
    "\n",
    "        # fit the model\n",
    "        w = regress(expanded_x, clean_y, lamb)\n",
    "        weights.append(w)\n",
    "        \n",
    "    return weights"
   ]
  },
  {
   "cell_type": "code",
   "execution_count": 143,
   "metadata": {},
   "outputs": [],
   "source": [
    "weights = train(TRAIN_X, TRAIN_Y)"
   ]
  },
  {
   "cell_type": "markdown",
   "metadata": {},
   "source": [
    "### Check accuracy with our test set"
   ]
  },
  {
   "cell_type": "code",
   "execution_count": 144,
   "metadata": {},
   "outputs": [],
   "source": [
    "# return predictions for a given chunck of data (validation or test set)\n",
    "def predict_all(test_x, test_y, weights):\n",
    "    \n",
    "    predictions = np.ones(test_y.shape)\n",
    "    \n",
    "    # for every jet number\n",
    "    for i in range(4):\n",
    "\n",
    "        # get test data\n",
    "        x, y, ids = data_of_jet_num(test_x, test_y, i)\n",
    "        \n",
    "        # clean test data (only remove undefined columns)\n",
    "        clean_x = remove_unwanted_cols(x, unwanted_cols[i])\n",
    "\n",
    "        # build polynomial expansion\n",
    "        ### TODO\n",
    "        expanded_x = clean_x\n",
    "\n",
    "        # predict the labels\n",
    "        p = predict(weights[i], expanded_x)\n",
    "        \n",
    "        predictions[ids] = p\n",
    "        \n",
    "    return predictions"
   ]
  },
  {
   "cell_type": "code",
   "execution_count": 147,
   "metadata": {},
   "outputs": [],
   "source": [
    "# method that predicts and returns the accuracy\n",
    "def check(test_x, test_y, weights):\n",
    "    predictions = predict_all(test_x, test_y, weights)\n",
    "    return accuracy(predictions, test_y)"
   ]
  },
  {
   "cell_type": "code",
   "execution_count": 148,
   "metadata": {},
   "outputs": [
    {
     "data": {
      "text/plain": [
       "0.75437"
      ]
     },
     "execution_count": 148,
     "metadata": {},
     "output_type": "execute_result"
    }
   ],
   "source": [
    "check(TEST_X, TEST_Y, weights)"
   ]
  },
  {
   "cell_type": "markdown",
   "metadata": {},
   "source": [
    "### Peaufiner lambda avec le validation set"
   ]
  },
  {
   "cell_type": "code",
   "execution_count": 37,
   "metadata": {},
   "outputs": [],
   "source": [
    "### TODO"
   ]
  },
  {
   "cell_type": "markdown",
   "metadata": {},
   "source": [
    "# Generate predictions and save ouput in csv format for submission:"
   ]
  },
  {
   "cell_type": "code",
   "execution_count": 90,
   "metadata": {},
   "outputs": [],
   "source": [
    "def predict_for_submission(test_x, weights):\n",
    "    bogus_y = np.ones((test_x.shape[0],))\n",
    "    return predict_all(test_x, bogus_y, weights)"
   ]
  },
  {
   "cell_type": "code",
   "execution_count": 70,
   "metadata": {},
   "outputs": [],
   "source": [
    "DATA_TEST_PATH = '../data/test.csv'\n",
    "_, tX_test, ids_test = load_csv_data(DATA_TEST_PATH)"
   ]
  },
  {
   "cell_type": "code",
   "execution_count": null,
   "metadata": {
    "scrolled": false
   },
   "outputs": [],
   "source": [
    "y_pred = predict_for_submission(tX_test, weights)"
   ]
  },
  {
   "cell_type": "code",
   "execution_count": null,
   "metadata": {},
   "outputs": [],
   "source": [
    "OUTPUT_PATH = '../output/predictions_2.csv'\n",
    "y_pred = predict(ws, tX_test)\n",
    "create_csv_submission(ids_test, y_pred, OUTPUT_PATH)"
   ]
  }
 ],
 "metadata": {
  "anaconda-cloud": {},
  "kernelspec": {
   "display_name": "Python 3",
   "language": "python",
   "name": "python3"
  },
  "language_info": {
   "codemirror_mode": {
    "name": "ipython",
    "version": 3
   },
   "file_extension": ".py",
   "mimetype": "text/x-python",
   "name": "python",
   "nbconvert_exporter": "python",
   "pygments_lexer": "ipython3",
   "version": "3.6.5"
  }
 },
 "nbformat": 4,
 "nbformat_minor": 1
}

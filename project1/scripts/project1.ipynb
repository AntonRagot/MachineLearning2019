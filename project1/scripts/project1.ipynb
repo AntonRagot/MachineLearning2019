{
 "cells": [
  {
   "cell_type": "code",
   "execution_count": 1,
   "metadata": {},
   "outputs": [],
   "source": [
    "# Useful starting lines\n",
    "%matplotlib inline\n",
    "import numpy as np\n",
    "import matplotlib.pyplot as plt\n",
    "%load_ext autoreload\n",
    "%autoreload 2"
   ]
  },
  {
   "cell_type": "markdown",
   "metadata": {},
   "source": [
    "## Load the training data into feature matrix, class labels, and event ids:"
   ]
  },
  {
   "cell_type": "code",
   "execution_count": 2,
   "metadata": {},
   "outputs": [],
   "source": [
    "from proj1_helpers import *\n",
    "from implementations import *"
   ]
  },
  {
   "cell_type": "code",
   "execution_count": 3,
   "metadata": {},
   "outputs": [],
   "source": [
    "DATA_TRAIN_PATH = '../data/train.csv'\n",
    "y, tX, ids = load_csv_data(DATA_TRAIN_PATH)"
   ]
  },
  {
   "cell_type": "markdown",
   "metadata": {},
   "source": [
    "## Do your thing crazy machine learning thing here :) ..."
   ]
  },
  {
   "cell_type": "code",
   "execution_count": 22,
   "metadata": {},
   "outputs": [],
   "source": [
    "M = tX.shape[1] # number of features"
   ]
  },
  {
   "cell_type": "code",
   "execution_count": 15,
   "metadata": {},
   "outputs": [],
   "source": [
    "train_x, train_y, test_x, test_y = split_data(tX, y, 0.5) # split into train and test"
   ]
  },
  {
   "cell_type": "code",
   "execution_count": 18,
   "metadata": {},
   "outputs": [],
   "source": [
    "# group data by PRI_jet_num (col_index = 22)\n",
    "def separate_data(X, y, val):\n",
    "    mask = X[:, 22] == val\n",
    "    return X[mask], y[mask]"
   ]
  },
  {
   "cell_type": "code",
   "execution_count": 37,
   "metadata": {},
   "outputs": [],
   "source": [
    "x0, y0 = separate_data(train_x, train_y, 0)\n",
    "x1, y1 = separate_data(train_x, train_y, 1)\n",
    "x2, y2 = separate_data(train_x, train_y, 2)\n",
    "x3, y3 = separate_data(train_x, train_y, 3)"
   ]
  },
  {
   "cell_type": "code",
   "execution_count": 54,
   "metadata": {},
   "outputs": [],
   "source": [
    "# compute weights for columns we selected\n",
    "def regress(X, y, mask):\n",
    "    cleaned = np.take(X, mask, axis=1)\n",
    "    w,_ = least_squares(y, cleaned)\n",
    "    return w"
   ]
  },
  {
   "cell_type": "code",
   "execution_count": 55,
   "metadata": {},
   "outputs": [],
   "source": [
    "# put 0 weights where the removed columns are, so we can simply multiply with test set without removing columns again\n",
    "def rescale(w, mask, M=M):\n",
    "    out = np.zeros((M,))\n",
    "    for e,i in enumerate(mask):\n",
    "        out[i] = w[e]\n",
    "    return out"
   ]
  },
  {
   "cell_type": "code",
   "execution_count": 89,
   "metadata": {},
   "outputs": [],
   "source": [
    "# choose relevant columns for each group\n",
    "mask0 = [1,2,5,12,13,14,15,16]\n",
    "mask1 = [1,2,3,4]\n",
    "mask2 = [2]\n",
    "mask3 = [24]"
   ]
  },
  {
   "cell_type": "code",
   "execution_count": 90,
   "metadata": {},
   "outputs": [],
   "source": [
    "w0 = rescale(regress(x0,y0,mask0), mask0)\n",
    "w1 = rescale(regress(x0,y0,mask1), mask1)\n",
    "w2 = rescale(regress(x0,y0,mask2), mask2)\n",
    "w3 = rescale(regress(x0,y0,mask3), mask3)\n",
    "ws = [w0,w1,w2,w3]"
   ]
  },
  {
   "cell_type": "code",
   "execution_count": 91,
   "metadata": {},
   "outputs": [],
   "source": [
    "def predict(ws, X):\n",
    "    labels = []\n",
    "    for sample in X:\n",
    "        labels.append(sample @ ws[int(sample[22])])\n",
    "    labels = np.array(labels)\n",
    "    labels[labels >= 0] = 1\n",
    "    labels[labels < 0] = -1\n",
    "    return labels"
   ]
  },
  {
   "cell_type": "code",
   "execution_count": 92,
   "metadata": {},
   "outputs": [],
   "source": [
    "predictions = predict(ws, test_x)"
   ]
  },
  {
   "cell_type": "code",
   "execution_count": 93,
   "metadata": {},
   "outputs": [
    {
     "name": "stdout",
     "output_type": "stream",
     "text": [
      "Accuracy on 125000 test samples is 0.661248\n"
     ]
    }
   ],
   "source": [
    "print('Accuracy on',len(test_y),'test samples is',np.sum(predictions==test_y)/len(test_y))"
   ]
  },
  {
   "cell_type": "markdown",
   "metadata": {},
   "source": [
    "## Old stuff"
   ]
  },
  {
   "cell_type": "code",
   "execution_count": 344,
   "metadata": {},
   "outputs": [
    {
     "name": "stdout",
     "output_type": "stream",
     "text": [
      "Accuracy on 125000 test samples is 0.74408\n"
     ]
    }
   ],
   "source": [
    "train_x, train_y, test_x, test_y = split_data(X, y, 0.5)\n",
    "weights, loss = least_squares(train_y, train_x)\n",
    "# Accuracy\n",
    "y_check = predict_labels(weights, test_x)\n",
    "print('Accuracy on',len(test_y),'test samples is',np.sum(y_check==test_y)/len(y_check))"
   ]
  },
  {
   "cell_type": "markdown",
   "metadata": {},
   "source": [
    "## Generate predictions and save ouput in csv format for submission:"
   ]
  },
  {
   "cell_type": "code",
   "execution_count": 75,
   "metadata": {},
   "outputs": [],
   "source": [
    "DATA_TEST_PATH = '../data/test.csv'\n",
    "_, tX_test, ids_test = load_csv_data(DATA_TEST_PATH)"
   ]
  },
  {
   "cell_type": "code",
   "execution_count": 76,
   "metadata": {},
   "outputs": [],
   "source": [
    "OUTPUT_PATH = '../output/predictions_0.csv'\n",
    "y_pred = predict_labels(weights, tX_test)\n",
    "create_csv_submission(ids_test, y_pred, OUTPUT_PATH)"
   ]
  }
 ],
 "metadata": {
  "anaconda-cloud": {},
  "kernelspec": {
   "display_name": "Python 3",
   "language": "python",
   "name": "python3"
  },
  "language_info": {
   "codemirror_mode": {
    "name": "ipython",
    "version": 3
   },
   "file_extension": ".py",
   "mimetype": "text/x-python",
   "name": "python",
   "nbconvert_exporter": "python",
   "pygments_lexer": "ipython3",
   "version": "3.6.5"
  }
 },
 "nbformat": 4,
 "nbformat_minor": 1
}
